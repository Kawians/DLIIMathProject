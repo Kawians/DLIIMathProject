{
 "cells": [
  {
   "cell_type": "markdown",
   "metadata": {},
   "source": [
    "## DL II Math Final Project Report:  \n",
    "  \n",
    "  ## Creating 3D images/clips from 2D images"
   ]
  },
  {
   "cell_type": "markdown",
   "metadata": {},
   "source": [
    "### Group Members:\n",
    "Dusan Birtasevic  \n",
    "Kavian Mashayekhi  \n",
    "Narjes Amusoltani  \n",
    "Tina Khazaee"
   ]
  },
  {
   "cell_type": "markdown",
   "metadata": {},
   "source": [
    "Welcome to the DL II Math Final Project index page.  \n",
    "  \n",
    "This index file has been created to refrence different parts of the project. You can see Table of content below and can have access to different parts of the project throgh the provided links. "
   ]
  },
  {
   "cell_type": "markdown",
   "metadata": {},
   "source": [
    "### Notebooks:"
   ]
  },
  {
   "cell_type": "markdown",
   "metadata": {},
   "source": [
    "1- Project Report  \n",
    "  \n",
    "2- YOLO V8  \n",
    "  \n",
    "3- Image Super-Resolution using an Efficient Sub-Pixel CNN\n",
    "\n",
    "4- Fine Tuning of Image Super-Resolution using an Efficient Sub-Pixel CNN\n",
    "\n",
    "5- First Order Motion\n",
    "\n",
    "6- ESRGAN Video Enhancement  "
   ]
  },
  {
   "cell_type": "markdown",
   "metadata": {},
   "source": [
    "### Repositories:"
   ]
  },
  {
   "cell_type": "markdown",
   "metadata": {},
   "source": [
    "1- Notebooks, Report, HTML generated files Repository:  \n",
    "https://github.com/Kawians/DLIIMathProject/  \n",
    "  \n",
    "2- Streamlit Repository:\n",
    "  \n",
    "3- Streamlit link:  \n",
    "  \n",
    "  "
   ]
  },
  {
   "cell_type": "markdown",
   "metadata": {},
   "source": []
  }
 ],
 "metadata": {
  "language_info": {
   "name": "python"
  },
  "orig_nbformat": 4
 },
 "nbformat": 4,
 "nbformat_minor": 2
}
