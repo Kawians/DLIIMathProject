{
 "cells": [
  {
   "cell_type": "markdown",
   "metadata": {},
   "source": [
    "## DL II Math Final Project Report:  \n",
    "  \n",
    "  ## Creating 3D images/clips from 2D images"
   ]
  },
  {
   "cell_type": "markdown",
   "metadata": {},
   "source": [
    "### Group Members:\n",
    "Dusan Birtasevic  \n",
    "Kavian Mashayekhi  \n",
    "Narjes Amusoltani  \n",
    "Tina Khazaee"
   ]
  },
  {
   "cell_type": "markdown",
   "metadata": {},
   "source": [
    "Welcome to the DL II Math Final Project index page.  \n",
    "  \n",
    "This index file has been created to refrence different parts of the project. You can see Table of content below and can have access to different parts of the project throgh the provided links. "
   ]
  },
  {
   "cell_type": "markdown",
   "metadata": {},
   "source": [
    "### Notebooks:"
   ]
  },
  {
   "cell_type": "markdown",
   "metadata": {},
   "source": [
    "1. [Project Report ](./DLIIReport.html)  \n",
    "  \n",
    "2. [YOLO V8 ](./yolov8_face_detection.html)  \n",
    "  \n",
    "3. [Image Super-Resolution using an Efficient Sub-Pixel CNN ](https://kawians.github.io/DLIIMathProject/Image%20Enhancement.html)  \n",
    "  \n",
    "4. [Fine Tuning of Image Super-Resolution using an Efficient Sub-Pixel CNN ](./Fine_Tuning.html)  \n",
    "  \n",
    "5. [First Order Motion ](https://github.com/Kawians/DLIIMathProject/blob/main/Notebooks/First_Order_Motion.ipynb)  \n",
    "  \n",
    "6. [ESRGAN Image Enhancement ](./ESRGAN_Image_Enhancement.html)  \n",
    "  \n",
    "7. [ESRGAN Video Enhancement ](./ESRGAN_Video_Enhancement.html)  "
   ]
  },
  {
   "cell_type": "markdown",
   "metadata": {},
   "source": [
    "### Repositories:"
   ]
  },
  {
   "cell_type": "markdown",
   "metadata": {},
   "source": [
    "1- Notebooks, Report, HTML generated files Repository:  \n",
    "https://github.com/Kawians/DLIIMathProject/  \n",
    "  \n",
    "2- Streamlit Repository:  \n",
    "https://github.com/dusanBirta/test_repo/tree/main\n",
    "  \n",
    "3- Streamlit App link:  \n",
    "https://testrepo-y12d7zyos0a.streamlit.app/\n",
    "  \n",
    "  "
   ]
  }
 ],
 "metadata": {
  "language_info": {
   "name": "python"
  },
  "orig_nbformat": 4
 },
 "nbformat": 4,
 "nbformat_minor": 2
}
